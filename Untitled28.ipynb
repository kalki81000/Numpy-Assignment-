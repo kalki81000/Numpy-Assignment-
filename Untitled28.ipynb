{
  "nbformat": 4,
  "nbformat_minor": 0,
  "metadata": {
    "colab": {
      "provenance": [],
      "authorship_tag": "ABX9TyPTg1zwdbsbveqPXAX2X2kn",
      "include_colab_link": true
    },
    "kernelspec": {
      "name": "python3",
      "display_name": "Python 3"
    },
    "language_info": {
      "name": "python"
    }
  },
  "cells": [
    {
      "cell_type": "markdown",
      "metadata": {
        "id": "view-in-github",
        "colab_type": "text"
      },
      "source": [
        "<a href=\"https://colab.research.google.com/github/kalki81000/Numpy-Assignment-/blob/main/Untitled28.ipynb\" target=\"_parent\"><img src=\"https://colab.research.google.com/assets/colab-badge.svg\" alt=\"Open In Colab\"/></a>"
      ]
    },
    {
      "cell_type": "code",
      "execution_count": null,
      "metadata": {
        "id": "2AKqKU1mYNNp"
      },
      "outputs": [],
      "source": [
        "#1.Create a numpy array 'arr' of integers from 0 to 5 print its data type\n",
        "import numpy as np\n",
        "\n",
        "arr = np.array([0, 1, 2, 3, 4, 5])\n",
        "print(arr.dtype)\n"
      ]
    },
    {
      "cell_type": "code",
      "source": [
        "#2.Given a NumPy array 'arr' check if its data type is float64.\n",
        "\n",
        "arr = np.array([1.5, 2.6, 3.7])\n",
        "\n",
        "if arr.dtype == np.float64:\n",
        "    print(\"The data type of 'arr' is float64.\")\n",
        "else:\n",
        "    print(\"The data type of 'arr' is not float64.\")\n"
      ],
      "metadata": {
        "id": "30ZiJhspa0i8"
      },
      "execution_count": null,
      "outputs": []
    },
    {
      "cell_type": "code",
      "source": [
        "#3.Create a Numpy array 'arr' with a data type of complex128 containig three complex nmbers.\n",
        "\n",
        "\n",
        "# Creating a NumPy array with complex128 data type\n",
        "arr = np.array([1 + 2j, 3 + 4j, 5 + 6j], dtype=np.complex128)\n",
        "\n",
        "print(arr)\n"
      ],
      "metadata": {
        "id": "jKJSU39sb4Az"
      },
      "execution_count": null,
      "outputs": []
    },
    {
      "cell_type": "code",
      "source": [
        "#4.Convert an existing Numpy array 'arr' of integers to float32 data type.\n",
        "\n",
        "# Assuming 'arr' is your existing NumPy array of integers\n",
        "# arr = np.array([...])\n",
        "\n",
        "# Convert 'arr' to float32 data type\n",
        "arr_float32 = arr.astype(np.float32)\n",
        "\n",
        "print(arr_float32)\n"
      ],
      "metadata": {
        "id": "5u81OpnGcjii"
      },
      "execution_count": null,
      "outputs": []
    },
    {
      "cell_type": "code",
      "source": [
        "#5.Given a Numpy array 'arr' with float64 data type,convert it to float32 to reduce decimal precision.\n",
        "\n",
        "# Assuming 'arr' is your NumPy array with float64 data type\n",
        "# arr = np.array([...], dtype=np.float64)\n",
        "\n",
        "# Convert 'arr' to float32 data type\n",
        "arr_float32 = arr.astype(np.float32)\n",
        "\n",
        "print(arr_float32)\n"
      ],
      "metadata": {
        "id": "GelTcHn9dwi5"
      },
      "execution_count": null,
      "outputs": []
    },
    {
      "cell_type": "code",
      "source": [
        "#6.Write a function array_attributes that takes a Numpy array as input and return its shape,and data type.\n",
        "\n",
        "def array_attributes(arr):\n",
        "    \"\"\"\n",
        "    Returns the shape and data type of a given NumPy array.\n",
        "\n",
        "    Parameters:\n",
        "    arr (numpy.ndarray): Input NumPy array\n",
        "\n",
        "    Returns:\n",
        "    tuple: A tuple containing the shape and data type of the array\n",
        "    \"\"\"\n",
        "    shape = arr.shape\n",
        "    data_type = arr.dtype\n",
        "    return shape, data_type\n",
        "\n",
        "# Example usage:\n",
        "arr = np.array([[1, 2, 3], [4, 5, 6]])\n",
        "shape, data_type = array_attributes(arr)\n",
        "print(\"Shape:\", shape)\n",
        "print(\"Data Type:\", data_type)\n"
      ],
      "metadata": {
        "id": "62BSYwm4gI4n"
      },
      "execution_count": null,
      "outputs": []
    },
    {
      "cell_type": "code",
      "source": [
        "#7.Create a function array_dimension that takes a numpy array as input and return its dimensionall.\n",
        "import numpy as np\n",
        "\n",
        "def array_dimension(arr):\n",
        "    \"\"\"\n",
        "    Returns the dimensionality of a given NumPy array.\n",
        "\n",
        "    Parameters:\n",
        "    arr (numpy.ndarray): Input NumPy array\n",
        "\n",
        "    Returns:\n",
        "    int: Dimensionality of the array\n",
        "    \"\"\"\n",
        "    return arr.ndim\n",
        "\n",
        "# Example usage:\n",
        "arr = np.array([[1, 2, 3], [4, 5, 6]])\n",
        "dimensionality = array_dimension(arr)\n",
        "print(\"Dimensionality:\", dimensionality)\n"
      ],
      "metadata": {
        "id": "baesHa-9hkhF"
      },
      "execution_count": null,
      "outputs": []
    },
    {
      "cell_type": "code",
      "source": [
        "#8. Design a function item_size_info that takes a Numpy array as input and return the item size and the total size in bytes\n",
        "import numpy as np\n",
        "\n",
        "def item_size_info(arr):\n",
        "    \"\"\"\n",
        "    Returns the item size and total size in bytes of a given NumPy array.\n",
        "\n",
        "    Parameters:\n",
        "    arr (numpy.ndarray): Input NumPy array\n",
        "\n",
        "    Returns:\n",
        "    tuple: A tuple containing the item size (in bytes) and the total size (in bytes) of the array\n",
        "    \"\"\"\n",
        "    item_size = arr.itemsize\n",
        "    total_size = arr.size * item_size\n",
        "    return item_size, total_size\n",
        "\n",
        "# Example usage:\n",
        "arr = np.array([[1, 2, 3], [4, 5, 6]])\n",
        "item_size, total_size = item_size_info(arr)\n",
        "print(\"Item Size (bytes):\", item_size)\n",
        "print(\"Total Size (bytes):\", total_size)\n"
      ],
      "metadata": {
        "id": "1uiwWzX1iLlG"
      },
      "execution_count": null,
      "outputs": []
    },
    {
      "cell_type": "code",
      "source": [
        "#9.Create a function array_strides that takes the Numpy array as input and return the strides of the array\n",
        "import numpy as np\n",
        "\n",
        "def array_strides(arr):\n",
        "    \"\"\"\n",
        "    Returns the strides of a given NumPy array.\n",
        "\n",
        "    Parameters:\n",
        "    arr (numpy.ndarray): Input NumPy array\n",
        "\n",
        "    Returns:\n",
        "    tuple: A tuple containing the strides of the array\n",
        "    \"\"\"\n",
        "    return arr.strides\n",
        "\n",
        "# Example usage:\n",
        "arr = np.array([[1, 2, 3], [4, 5, 6]])\n",
        "strides = array_strides(arr)\n",
        "print(\"Strides:\", strides)\n"
      ],
      "metadata": {
        "id": "m04Dx6zHivC0"
      },
      "execution_count": null,
      "outputs": []
    },
    {
      "cell_type": "code",
      "source": [
        "#10.Design a function shape_strides_relentionship that takes a Numpy array as input and return the shape and strides of the array\n",
        "import numpy as np\n",
        "\n",
        "def shape_strides_relationship(arr):\n",
        "    \"\"\"\n",
        "    Returns the shape and strides of a given NumPy array.\n",
        "\n",
        "    Parameters:\n",
        "    arr (numpy.ndarray): Input NumPy array\n",
        "\n",
        "    Returns:\n",
        "    tuple: A tuple containing the shape and strides of the array\n",
        "    \"\"\"\n",
        "    shape = arr.shape\n",
        "    strides = arr.strides\n",
        "    return shape, strides\n",
        "\n",
        "# Example usage:\n",
        "arr = np.array([[1, 2, 3], [4, 5, 6]])\n",
        "shape, strides = shape_strides_relationship(arr)\n",
        "print(\"Shape:\", shape)\n",
        "print(\"Strides:\", strides)\n"
      ],
      "metadata": {
        "id": "77jW6jUhjNgV"
      },
      "execution_count": null,
      "outputs": []
    }
  ]
}