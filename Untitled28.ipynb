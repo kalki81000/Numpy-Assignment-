{
  "nbformat": 4,
  "nbformat_minor": 0,
  "metadata": {
    "colab": {
      "provenance": [],
      "authorship_tag": "ABX9TyP5/6BdWG67/H6xYaDjwi1X",
      "include_colab_link": true
    },
    "kernelspec": {
      "name": "python3",
      "display_name": "Python 3"
    },
    "language_info": {
      "name": "python"
    }
  },
  "cells": [
    {
      "cell_type": "markdown",
      "metadata": {
        "id": "view-in-github",
        "colab_type": "text"
      },
      "source": [
        "<a href=\"https://colab.research.google.com/github/kalki81000/Numpy-Assignment-/blob/main/Untitled28.ipynb\" target=\"_parent\"><img src=\"https://colab.research.google.com/assets/colab-badge.svg\" alt=\"Open In Colab\"/></a>"
      ]
    },
    {
      "cell_type": "code",
      "execution_count": null,
      "metadata": {
        "id": "2AKqKU1mYNNp"
      },
      "outputs": [],
      "source": [
        "#1.Create a numpy array 'arr' of integers from 0 to 5 print its data type\n",
        "import numpy as np\n",
        "\n",
        "arr = np.array([0, 1, 2, 3, 4, 5])\n",
        "print(arr.dtype)\n"
      ]
    },
    {
      "cell_type": "code",
      "source": [
        "#2.Given a NumPy array 'arr' check if its data type is float64.\n",
        "import numpy as np\n",
        "arr = np.array([1.5, 2.6, 3.7])\n",
        "\n",
        "if arr.dtype == np.float64:\n",
        "    print(\"The data type of 'arr' is float64.\")\n",
        "else:\n",
        "    print(\"The data type of 'arr' is not float64.\")\n"
      ],
      "metadata": {
        "id": "30ZiJhspa0i8"
      },
      "execution_count": null,
      "outputs": []
    },
    {
      "cell_type": "code",
      "source": [
        "#3.Create a Numpy array 'arr' with a data type of complex128 containig three complex nmbers.\n",
        "import numpy as np\n",
        "\n",
        "# Creating a NumPy array with complex128 data type\n",
        "arr = np.array([1 + 2j, 3 + 4j, 5 + 6j], dtype=np.complex128)\n",
        "\n",
        "print(arr)\n"
      ],
      "metadata": {
        "id": "jKJSU39sb4Az"
      },
      "execution_count": null,
      "outputs": []
    },
    {
      "cell_type": "code",
      "source": [
        "#4.Convert an existing Numpy array 'arr' of integers to float32 data type.\n",
        "import numpy as np\n",
        "# Assuming 'arr' is your existing NumPy array of integers\n",
        "# arr = np.array([...])\n",
        "\n",
        "# Convert 'arr' to float32 data type\n",
        "arr_float32 = arr.astype(np.float32)\n",
        "\n",
        "print(arr_float32)\n"
      ],
      "metadata": {
        "id": "5u81OpnGcjii"
      },
      "execution_count": null,
      "outputs": []
    },
    {
      "cell_type": "code",
      "source": [
        "#5.Given a Numpy array 'arr' with float64 data type,convert it to float32 to reduce decimal precision.\n",
        "import numpy as np\n",
        "# Assuming 'arr' is your NumPy array with float64 data type\n",
        "# arr = np.array([...], dtype=np.float64)\n",
        "\n",
        "# Convert 'arr' to float32 data type\n",
        "arr_float32 = arr.astype(np.float32)\n",
        "\n",
        "print(arr_float32)\n"
      ],
      "metadata": {
        "id": "GelTcHn9dwi5"
      },
      "execution_count": null,
      "outputs": []
    },
    {
      "cell_type": "code",
      "source": [
        "#6.Write a function array_attributes that takes a Numpy array as input and return its shape,and data type.\n",
        "import numpy as np\n",
        "def array_attributes(arr):\n",
        "    \"\"\"\n",
        "    Returns the shape and data type of a given NumPy array.\n",
        "\n",
        "    Parameters:\n",
        "    arr (numpy.ndarray): Input NumPy array\n",
        "\n",
        "    Returns:\n",
        "    tuple: A tuple containing the shape and data type of the array\n",
        "    \"\"\"\n",
        "    shape = arr.shape\n",
        "    data_type = arr.dtype\n",
        "    return shape, data_type\n",
        "\n",
        "# Example usage:\n",
        "arr = np.array([[1, 2, 3], [4, 5, 6]])\n",
        "shape, data_type = array_attributes(arr)\n",
        "print(\"Shape:\", shape)\n",
        "print(\"Data Type:\", data_type)\n"
      ],
      "metadata": {
        "id": "62BSYwm4gI4n"
      },
      "execution_count": null,
      "outputs": []
    },
    {
      "cell_type": "code",
      "source": [
        "#7.Create a function array_dimension that takes a numpy array as input and return its dimensionall.\n",
        "import numpy as np\n",
        "\n",
        "def array_dimension(arr):\n",
        "    \"\"\"\n",
        "    Returns the dimensionality of a given NumPy array.\n",
        "\n",
        "    Parameters:\n",
        "    arr (numpy.ndarray): Input NumPy array\n",
        "\n",
        "    Returns:\n",
        "    int: Dimensionality of the array\n",
        "    \"\"\"\n",
        "    return arr.ndim\n",
        "\n",
        "# Example usage:\n",
        "arr = np.array([[1, 2, 3], [4, 5, 6]])\n",
        "dimensionality = array_dimension(arr)\n",
        "print(\"Dimensionality:\", dimensionality)\n"
      ],
      "metadata": {
        "id": "baesHa-9hkhF"
      },
      "execution_count": null,
      "outputs": []
    },
    {
      "cell_type": "code",
      "source": [
        "#8. Design a function item_size_info that takes a Numpy array as input and return the item size and the total size in bytes\n",
        "import numpy as np\n",
        "\n",
        "def item_size_info(arr):\n",
        "    \"\"\"\n",
        "    Returns the item size and total size in bytes of a given NumPy array.\n",
        "\n",
        "    Parameters:\n",
        "    arr (numpy.ndarray): Input NumPy array\n",
        "\n",
        "    Returns:\n",
        "    tuple: A tuple containing the item size (in bytes) and the total size (in bytes) of the array\n",
        "    \"\"\"\n",
        "    item_size = arr.itemsize\n",
        "    total_size = arr.size * item_size\n",
        "    return item_size, total_size\n",
        "\n",
        "# Example usage:\n",
        "arr = np.array([[1, 2, 3], [4, 5, 6]])\n",
        "item_size, total_size = item_size_info(arr)\n",
        "print(\"Item Size (bytes):\", item_size)\n",
        "print(\"Total Size (bytes):\", total_size)\n"
      ],
      "metadata": {
        "id": "1uiwWzX1iLlG"
      },
      "execution_count": null,
      "outputs": []
    },
    {
      "cell_type": "code",
      "source": [
        "#9.Create a function array_strides that takes the Numpy array as input and return the strides of the array\n",
        "import numpy as np\n",
        "\n",
        "def array_strides(arr):\n",
        "    \"\"\"\n",
        "    Returns the strides of a given NumPy array.\n",
        "\n",
        "    Parameters:\n",
        "    arr (numpy.ndarray): Input NumPy array\n",
        "\n",
        "    Returns:\n",
        "    tuple: A tuple containing the strides of the array\n",
        "    \"\"\"\n",
        "    return arr.strides\n",
        "\n",
        "# Example usage:\n",
        "arr = np.array([[1, 2, 3], [4, 5, 6]])\n",
        "strides = array_strides(arr)\n",
        "print(\"Strides:\", strides)\n"
      ],
      "metadata": {
        "id": "m04Dx6zHivC0"
      },
      "execution_count": null,
      "outputs": []
    },
    {
      "cell_type": "code",
      "source": [
        "#10.Design a function shape_strides_relentionship that takes a Numpy array as input and return the shape and strides of the array\n",
        "\n",
        "import numpy as np\n",
        "def shape_strides_relationship(arr):\n",
        "    \"\"\"\n",
        "    Returns the shape and strides of a given NumPy array.\n",
        "\n",
        "    Parameters:\n",
        "    arr (numpy.ndarray): Input NumPy array\n",
        "\n",
        "    Returns:\n",
        "    tuple: A tuple containing the shape and strides of the array\n",
        "    \"\"\"\n",
        "    shape = arr.shape\n",
        "    strides = arr.strides\n",
        "    return shape, strides\n",
        "\n",
        "# Example usage:\n",
        "arr = np.array([[1, 2, 3], [4, 5, 6]])\n",
        "shape, strides = shape_strides_relationship(arr)\n",
        "print(\"Shape:\", shape)\n",
        "print(\"Strides:\", strides)\n"
      ],
      "metadata": {
        "id": "77jW6jUhjNgV"
      },
      "execution_count": null,
      "outputs": []
    },
    {
      "cell_type": "code",
      "source": [
        "#11.craete a function 'craete_zeros_array' that takes an integers 'n'as input and retrun a numpy array of zeros with 'n' elements.\n",
        "import numpy as np\n",
        "def create_zeros_array(n):\n",
        "    return np.zeros(n)\n",
        "\n",
        "# Example usage:\n",
        "n = 5\n",
        "zeros_array = create_zeros_array(n)\n",
        "print(zeros_array)\n",
        "\n",
        "\n",
        "\n",
        "#create_zeros_array = lambda n: np.zeros(n)\n"
      ],
      "metadata": {
        "id": "TUi9z3AMyBRk"
      },
      "execution_count": null,
      "outputs": []
    },
    {
      "cell_type": "code",
      "source": [
        "#12.write a function create_ones_matrix that takes integers 'rows'and 'cols' a input and genrate a 2d numpy array filled with ones of size 'rows x cols'\n",
        "import numpy as np\n",
        "\n",
        "def create_ones_matrix(rows, cols):\n",
        "    return np.ones((rows, cols))\n",
        "\n",
        "# Example usage:\n",
        "rows = 3\n",
        "cols = 4\n",
        "ones_matrix = create_ones_matrix(rows, cols)\n",
        "print(ones_matrix)\n"
      ],
      "metadata": {
        "id": "8AasGb3DzPwL"
      },
      "execution_count": null,
      "outputs": []
    },
    {
      "cell_type": "code",
      "source": [
        "#13.write a function 'generate_range_space'that takes three integers start ,shop,and step as arguments and create a nmpy array with a range starting from start ending at stop (exclusive)and with the specified step.\n",
        "import numpy as np\n",
        "\n",
        "def generate_range_space(start, stop, step):\n",
        "    return np.arange(start, stop, step)\n",
        "\n",
        "# Example usage:\n",
        "start = 0\n",
        "stop = 10\n",
        "step = 2\n",
        "result_array = generate_range_space(start, stop, step)\n",
        "print(result_array)\n"
      ],
      "metadata": {
        "id": "bHGqebrOz5ka"
      },
      "execution_count": null,
      "outputs": []
    },
    {
      "cell_type": "code",
      "source": [
        "#14.design a function gnerate_linear_space that takes two floats start stop and an integers 'num'as arguments and generates a numpy array with equally spaced values between start and stop (inclusive)\n",
        "import numpy as np\n",
        "def generate_linear_space(start, stop, num):\n",
        "    return np.linspace(start, stop, num)\n",
        "\n",
        "# Example usage:\n",
        "start = 0.0\n",
        "stop = 1.0\n",
        "num = 5\n",
        "result_array = generate_linear_space(start, stop, num)\n",
        "print(result_array)\n"
      ],
      "metadata": {
        "id": "pJNi6uQI0yGV"
      },
      "execution_count": null,
      "outputs": []
    },
    {
      "cell_type": "code",
      "source": [
        "#15.craete a function create_identy_matrix that takes an integers n as input and generates a square identity matrix of size n x n using numpy.eye\n",
        "import numpy as np\n",
        "\n",
        "def create_identity_matrix(n):\n",
        "    return np.eye(n)\n",
        "\n",
        "# Example usage:\n",
        "n = 3\n",
        "identity_matrix = create_identity_matrix(n)\n",
        "print(identity_matrix)\n"
      ],
      "metadata": {
        "id": "fWkHiDkc1be0",
        "outputId": "dca953bc-1b1d-4ae4-c6f8-96620a25073c",
        "colab": {
          "base_uri": "https://localhost:8080/"
        }
      },
      "execution_count": 2,
      "outputs": [
        {
          "output_type": "stream",
          "name": "stdout",
          "text": [
            "[[1. 0. 0.]\n",
            " [0. 1. 0.]\n",
            " [0. 0. 1.]]\n"
          ]
        }
      ]
    },
    {
      "cell_type": "code",
      "source": [
        "#16.write a funtion that takes a python list and conert it into a numpy array\n",
        "import numpy as np\n",
        "\n",
        "def list_to_numpy_array(py_list):\n",
        "    return np.array(py_list)\n",
        "\n",
        "# Example usage:\n",
        "python_list = [1, 2, 3, 4, 5]\n",
        "numpy_array = list_to_numpy_array(python_list)\n",
        "print(numpy_array)\n"
      ],
      "metadata": {
        "id": "ofswpE8p2U1L"
      },
      "execution_count": null,
      "outputs": []
    },
    {
      "cell_type": "code",
      "source": [
        "#17.create a numpy array and demonstrate the use of numpy.veiw to create a new array objects with the same data\n",
        "import numpy as np\n",
        "\n",
        "# Creating a NumPy array\n",
        "original_array = np.array([1, 2, 3, 4, 5])\n",
        "\n",
        "# Creating a view of the original array\n",
        "view_array = original_array.view()\n",
        "\n",
        "# Modifying the view array\n",
        "view_array[0] = 100\n",
        "\n",
        "# Checking the original array and the view array\n",
        "print(\"Original Array:\", original_array)\n",
        "print(\"View Array:\", view_array)\n"
      ],
      "metadata": {
        "id": "URgf-nRz3PUl"
      },
      "execution_count": null,
      "outputs": []
    },
    {
      "cell_type": "code",
      "source": [
        "#18.write a function that takes two numpy arrays and concatenates them along a specified axis.\n",
        "import numpy as np\n",
        "\n",
        "def concatenate_arrays(array1, array2, axis=0):\n",
        "    return np.concatenate((array1, array2), axis=axis)\n",
        "\n",
        "# Example usage:\n",
        "array1 = np.array([[1, 2], [3, 4]])\n",
        "array2 = np.array([[5, 6]])\n",
        "result = concatenate_arrays(array1, array2, axis=0)\n",
        "print(\"Concatenated Array along axis 0:\\n\", result)\n",
        "\n",
        "result = concatenate_arrays(array1, array2.T, axis=1)\n",
        "print(\"\\nConcatenated Array along axis 1:\\n\", result)\n"
      ],
      "metadata": {
        "id": "2YOf7std3uAL"
      },
      "execution_count": null,
      "outputs": []
    },
    {
      "cell_type": "code",
      "source": [
        "#19.create two numpy arrays with different shapes and concatenates them horizonatally using numpy concatenate.\n",
        "import numpy as np\n",
        "\n",
        "# Creating two numpy arrays with different shapes\n",
        "array1 = np.array([[1, 2, 3],\n",
        "                   [4, 5, 6]])\n",
        "\n",
        "array2 = np.array([[7],\n",
        "                   [8]])\n",
        "\n",
        "# Concatenating arrays horizontally\n",
        "result = np.concatenate((array1, array2), axis=1)\n",
        "\n",
        "print(\"Array 1:\\n\", array1)\n",
        "print(\"\\nArray 2:\\n\", array2)\n",
        "print(\"\\nConcatenated Array horizontally:\\n\", result)\n"
      ],
      "metadata": {
        "id": "ay6N4Uus4Zng"
      },
      "execution_count": null,
      "outputs": []
    },
    {
      "cell_type": "code",
      "source": [
        "#20.write a function that vertically stacks multiple numpy arrays given as a list\n",
        "import numpy as np\n",
        "\n",
        "def vertical_stack_arrays(array_list):\n",
        "    return np.vstack(array_list)\n",
        "\n",
        "# Example usage:\n",
        "array1 = np.array([[1, 2, 3],\n",
        "                   [4, 5, 6]])\n",
        "\n",
        "array2 = np.array([[7, 8, 9],\n",
        "                   [10, 11, 12]])\n",
        "\n",
        "array3 = np.array([[13, 14, 15],\n",
        "                   [16, 17, 18]])\n",
        "\n",
        "result = vertical_stack_arrays([array1, array2, array3])\n",
        "print(\"Vertically Stacked Arrays:\\n\", result)\n"
      ],
      "metadata": {
        "id": "Rnb1LP1y438h"
      },
      "execution_count": null,
      "outputs": []
    },
    {
      "cell_type": "code",
      "source": [
        "#21.write a python function using numpy to create an array of integers within a specified ranges (inclusive)with a given step size.\n",
        "import numpy as np\n",
        "\n",
        "def create_integer_range(start, stop, step):\n",
        "    return np.arange(start, stop + 1, step, dtype=int)\n",
        "\n",
        "# Example usage:\n",
        "start = 0\n",
        "stop = 10\n",
        "step = 2\n",
        "result_array = create_integer_range(start, stop, step)\n",
        "print(result_array)\n"
      ],
      "metadata": {
        "id": "lGWZb6gQ5NAq"
      },
      "execution_count": null,
      "outputs": []
    },
    {
      "cell_type": "code",
      "source": [
        "#22.write a python function using numpy to generate an array of 10 equally spaced values between o and 1 (inclusive)\n",
        "import numpy as np\n",
        "\n",
        "def generate_equally_spaced_values():\n",
        "    return np.linspace(0, 1, 10)\n",
        "\n",
        "# Example usage:\n",
        "result_array = generate_equally_spaced_values()\n",
        "print(result_array)\n"
      ],
      "metadata": {
        "id": "zO8DghJe5zSv"
      },
      "execution_count": null,
      "outputs": []
    },
    {
      "cell_type": "code",
      "source": [
        "#23.write a python function using numpy to craete an array of 5 logarithmically spaced values between 1 and 1000(inclusive)\n",
        "import numpy as np\n",
        "\n",
        "def generate_logarithmically_spaced_values():\n",
        "    return np.logspace(0, 3, 5)\n",
        "\n",
        "# Example usage:\n",
        "result_array = generate_logarithmically_spaced_values()\n",
        "print(result_array)\n"
      ],
      "metadata": {
        "id": "4mCnDF468toQ"
      },
      "execution_count": null,
      "outputs": []
    },
    {
      "cell_type": "code",
      "source": [
        "#24.craete a pandas Dataframe using a numpy array that contains 5 rows and 3 columns where the values are randome integers between 1 and 100\n",
        "import numpy as np\n",
        "import pandas as pd\n",
        "\n",
        "# Generate a numpy array with random integers between 1 and 100\n",
        "data_array = np.random.randint(1, 101, size=(5, 3))\n",
        "\n",
        "# Create a Pandas DataFrame from the numpy array\n",
        "df = pd.DataFrame(data_array, columns=['Column1', 'Column2', 'Column3'])\n",
        "\n",
        "# Display the DataFrame\n",
        "print(df)\n"
      ],
      "metadata": {
        "id": "t5pOc1zQ9QaP"
      },
      "execution_count": null,
      "outputs": []
    },
    {
      "cell_type": "code",
      "source": [
        "#25.write a function that takes a pandas Dataframe and replace all negative values in a specific column with zeros use numpy operation within the pandas DataFrame\n",
        "\n",
        "import pandas as pd\n",
        "import numpy as np\n",
        "\n",
        "def replace_negative_with_zero(df, column_name):\n",
        "    # Apply a function to each element of the specified column\n",
        "    df[column_name] = df[column_name].apply(lambda x: max(0, x))\n",
        "    return df\n",
        "\n",
        "# Example usage:\n",
        "# Creating a sample DataFrame\n",
        "data = {'A': [1, -2, 3, -4, 5],\n",
        "        'B': [10, -20, 30, -40, 50]}\n",
        "df = pd.DataFrame(data)\n",
        "\n",
        "# Replace negative values in column 'A' with zeros\n",
        "df_modified = replace_negative_with_zero(df, 'A')\n",
        "\n",
        "# Display the modified DataFrame\n",
        "print(df_modified)\n"
      ],
      "metadata": {
        "id": "3LJgA108-qEY"
      },
      "execution_count": null,
      "outputs": []
    },
    {
      "cell_type": "code",
      "source": [
        "#26. Aces the 3rd element from the given numpy array\n",
        " # arr= np.array([10,20,30,40,50])\n",
        "\n",
        "import numpy as np\n",
        "\n",
        "arr = np.array([10, 20, 30, 40, 50])\n",
        "\n",
        "# Access the 3rd element\n",
        "third_element = arr[2]\n",
        "\n",
        "print(\"Third element:\", third_element)\n"
      ],
      "metadata": {
        "id": "fKnSevn0-3OW"
      },
      "execution_count": null,
      "outputs": []
    },
    {
      "cell_type": "code",
      "source": [
        "#27.retrive the elements at index (1,2) from the 2d numpy array\n",
        "import numpy as np\n",
        "\n",
        "# Example 2D NumPy array\n",
        "arr_2d = np.array([[1, 2, 3],\n",
        "                   [4, 5, 6],\n",
        "                   [7, 8, 9]])\n",
        "\n",
        "# Retrieve the element at index (1, 2)\n",
        "element_12 = arr_2d[1, 2]\n",
        "\n",
        "print(\"Element at index (1, 2):\", element_12)\n"
      ],
      "metadata": {
        "id": "WQkHfLd0_ZTH"
      },
      "execution_count": null,
      "outputs": []
    },
    {
      "cell_type": "code",
      "source": [
        "#28.using boolean indexing extract elements greater than 5 from the given numpy array\n",
        "   #arr = np.array([3,8,2,10,5,7])\n",
        "\n",
        "import numpy as np\n",
        "\n",
        "# Given NumPy array\n",
        "arr = np.array([3, 8, 2, 10, 5, 7])\n",
        "\n",
        "# Boolean indexing to extract elements greater than 5\n",
        "result = arr[arr > 5]\n",
        "\n",
        "print(\"Elements greater than 5:\", result)\n",
        "\n",
        "\n"
      ],
      "metadata": {
        "id": "RWR-RTqn_1Kg"
      },
      "execution_count": null,
      "outputs": []
    },
    {
      "cell_type": "code",
      "source": [
        "#29.perofram basic slicing to extract elements from index 2 to 5(inclusive)from the given numpy array\n",
        "    # arr = np.array([1,2,3,4,5,6,7,8,9])\n",
        "\n",
        "    import numpy as np\n",
        "\n",
        "# Given NumPy array\n",
        "arr = np.array([1, 2, 3, 4, 5, 6, 7, 8, 9])\n",
        "\n",
        "# Basic slicing to extract elements from index 2 to 5 (inclusive)\n",
        "result = arr[2:6]\n",
        "\n",
        "print(\"Elements from index 2 to 5 (inclusive):\", result)\n"
      ],
      "metadata": {
        "id": "WpHDaJKTAolf"
      },
      "execution_count": null,
      "outputs": []
    },
    {
      "cell_type": "code",
      "source": [
        "#30.slice the 2D numpy array to extract the sub-array [[2,3]],[[5,6]] from the given array\n",
        "\n",
        "   #arr_2D = np.array([[1,2,3],\n",
        "                      #[4,5,6],\n",
        "                      #[7,8,9]])\n",
        "\n",
        "import numpy as np\n",
        "\n",
        "# Given 2D NumPy array\n",
        "arr_2D = np.array([[1, 2, 3],\n",
        "                   [4, 5, 6],\n",
        "                   [7, 8, 9]])\n",
        "\n",
        "# Slicing to extract the sub-arrays [[2, 3]] and [[5, 6]]\n",
        "sub_array1 = arr_2D[0:1, 1:3]\n",
        "sub_array2 = arr_2D[1:2, 1:3]\n",
        "\n",
        "print(\"Sub-array [[2, 3]]:\", sub_array1)\n",
        "print(\"Sub-array [[5, 6]]:\", sub_array2)\n",
        "\n"
      ],
      "metadata": {
        "id": "u4F227TzBHvW"
      },
      "execution_count": null,
      "outputs": []
    },
    {
      "cell_type": "code",
      "source": [
        "#31.write a numpy function to extract elements in specific order from a given 2D array based on indices provided in another array\n",
        "import numpy as np\n",
        "\n",
        "def extract_elements(arr_2D, indices_array):\n",
        "    return arr_2D[indices_array[:, 0], indices_array[:, 1]]\n",
        "\n",
        "# Example usage:\n",
        "arr_2D = np.array([[1, 2, 3],\n",
        "                   [4, 5, 6],\n",
        "                   [7, 8, 9]])\n",
        "\n",
        "indices_array = np.array([[0, 1],\n",
        "                          [1, 2],\n",
        "                          [2, 0]])\n",
        "\n",
        "result = extract_elements(arr_2D, indices_array)\n",
        "print(\"Extracted elements based on indices:\", result)\n"
      ],
      "metadata": {
        "id": "k1OcIb55B3v_"
      },
      "execution_count": null,
      "outputs": []
    },
    {
      "cell_type": "code",
      "source": [
        "#32.craete a numpy function that filters elements greater than a thresholdes from a given 1D array using boolean indexing\n",
        "import numpy as np\n",
        "\n",
        "def filter_elements(arr, threshold):\n",
        "    return arr[arr > threshold]\n",
        "\n",
        "# Example usage:\n",
        "arr = np.array([1, 2, 3, 4, 5, 6, 7, 8, 9])\n",
        "threshold = 5\n",
        "filtered_array = filter_elements(arr, threshold)\n",
        "print(\"Filtered elements greater than\", threshold, \":\", filtered_array)\n"
      ],
      "metadata": {
        "id": "JH7Fbv1_API4"
      },
      "execution_count": null,
      "outputs": []
    },
    {
      "cell_type": "code",
      "source": [
        "#33.develope a numpy function that extract specific elements from a 3D array using indices provided in three seperated arrays for each dimension\n",
        "import numpy as np\n",
        "\n",
        "def extract_elements_3d(arr_3D, indices_dim1, indices_dim2, indices_dim3):\n",
        "    return arr_3D[indices_dim1, indices_dim2, indices_dim3]\n",
        "\n",
        "# Example usage:\n",
        "arr_3D = np.array([[[1, 2, 3], [4, 5, 6]],\n",
        "                   [[7, 8, 9], [10, 11, 12]]])\n",
        "\n",
        "indices_dim1 = np.array([0, 1])\n",
        "indices_dim2 = np.array([0, 1])\n",
        "indices_dim3 = np.array([1, 2])\n",
        "\n",
        "result = extract_elements_3d(arr_3D, indices_dim1, indices_dim2, indices_dim3)\n",
        "print(\"Extracted elements:\", result)\n"
      ],
      "metadata": {
        "id": "80dOmUPKCw-I"
      },
      "execution_count": null,
      "outputs": []
    },
    {
      "cell_type": "code",
      "source": [
        "#34.write a numpy functio that return elements from an array where both two condition are satisfied using boolean indexing\n",
        "import numpy as np\n",
        "\n",
        "def satisfy_both_conditions(arr, condition1, condition2):\n",
        "    return arr[np.logical_and(condition1, condition2)]\n",
        "\n",
        "# Example usage:\n",
        "arr = np.array([1, 2, 3, 4, 5, 6, 7, 8, 9])\n",
        "condition1 = arr > 3\n",
        "condition2 = arr % 2 == 0\n",
        "\n",
        "result = satisfy_both_conditions(arr, condition1, condition2)\n",
        "print(\"Elements satisfying both conditions:\", result)\n"
      ],
      "metadata": {
        "id": "ldpYqMwVDUzH"
      },
      "execution_count": null,
      "outputs": []
    },
    {
      "cell_type": "code",
      "source": [
        "#35.craete a numpy function that extract elements from a 2D array using row and column indices provided in seperated arrays\n",
        "import numpy as np\n",
        "\n",
        "def extract_elements_2d(arr_2D, row_indices, col_indices):\n",
        "    return arr_2D[row_indices, col_indices]\n",
        "\n",
        "# Example usage:\n",
        "arr_2D = np.array([[1, 2, 3],\n",
        "                   [4, 5, 6],\n",
        "                   [7, 8, 9]])\n",
        "\n",
        "row_indices = np.array([0, 1, 2])\n",
        "col_indices = np.array([1, 2, 0])\n",
        "\n",
        "result = extract_elements_2d(arr_2D, row_indices, col_indices)\n",
        "print(\"Extracted elements:\", result)\n"
      ],
      "metadata": {
        "id": "Jq9aV61fDvHm"
      },
      "execution_count": null,
      "outputs": []
    },
    {
      "cell_type": "code",
      "source": [
        "#36.given an array arr of shape(3,3),add a scalar value of 5 to each elements using numpy broadcasting\n",
        "import numpy as np\n",
        "\n",
        "# Given array\n",
        "arr = np.array([[1, 2, 3],\n",
        "                [4, 5, 6],\n",
        "                [7, 8, 9]])\n",
        "\n",
        "# Add a scalar value of 5 using broadcasting\n",
        "result = arr + 5\n",
        "\n",
        "print(\"Original Array:\")\n",
        "print(arr)\n",
        "\n",
        "print(\"\\nAfter adding scalar value of 5:\")\n",
        "print(result)\n"
      ],
      "metadata": {
        "id": "KY7XR3qyEOYv"
      },
      "execution_count": null,
      "outputs": []
    },
    {
      "cell_type": "code",
      "source": [
        "#37.Consider two arrays arr1 of shape(1,3)and arr2 of shape(3,4)multiple each row of arr2 by the corresponding elements in arr1 using numpy broadcsting\n",
        "import numpy as np\n",
        "\n",
        "# Given arrays\n",
        "arr1 = np.array([[1, 2, 3]])\n",
        "arr2 = np.array([[1, 2, 3, 4],\n",
        "                 [5, 6, 7, 8],\n",
        "                 [9, 10, 11, 12]])\n",
        "\n",
        "# Perform broadcasting and element-wise multiplication\n",
        "result = arr1 * arr2\n",
        "\n",
        "print(\"Resulting array:\")\n",
        "print(result)\n"
      ],
      "metadata": {
        "id": "jUn1-KFmEp_5"
      },
      "execution_count": null,
      "outputs": []
    },
    {
      "cell_type": "code",
      "source": [
        "#38.given a 1D array arr1 of shape (1,4)and 2D array arr2 of shape (4,3)add arr1 to each row of arr2 using numpy broadcating\n",
        "import numpy as np\n",
        "\n",
        "# Given arrays\n",
        "arr1 = np.array([[1, 2, 3, 4]])\n",
        "arr2 = np.array([[1, 2, 3],\n",
        "                 [4, 5, 6],\n",
        "                 [7, 8, 9],\n",
        "                 [10, 11, 12]])\n",
        "\n",
        "# Broadcast arr1 to the shape of arr2\n",
        "broadcasted_arr1 = np.broadcast_to(arr1, arr2.shape)\n",
        "\n",
        "# Add arr1 to each row of arr2\n",
        "result = arr2 + broadcasted_arr1\n",
        "\n",
        "print(\"Resulting array:\")\n",
        "print(result)\n"
      ],
      "metadata": {
        "id": "qS3QG8XiFPBN"
      },
      "execution_count": null,
      "outputs": []
    },
    {
      "cell_type": "code",
      "source": [
        "#39.consider two arrays arr1 of shape(3,1) and arr2 of shape (1,3) add these array using numpy broadcasting\n",
        "import numpy as np\n",
        "\n",
        "# Given arrays\n",
        "arr1 = np.array([[1],\n",
        "                  [2],\n",
        "                  [3]])\n",
        "arr2 = np.array([[4, 5, 6]])\n",
        "\n",
        "# Perform broadcasting and addition\n",
        "result = arr1 + arr2\n",
        "\n",
        "print(\"Resulting array:\")\n",
        "print(result)\n"
      ],
      "metadata": {
        "id": "vXx33nNHFtJI"
      },
      "execution_count": null,
      "outputs": []
    },
    {
      "cell_type": "code",
      "source": [
        "#40.given array arr1 of shape (2,3) and arr2 of shape (2,2)perform multiplication using numpy broadcasting handle the shape incompatibility\n",
        "import numpy as np\n",
        "\n",
        "# Given arrays\n",
        "arr1 = np.array([[1, 2, 3],\n",
        "                  [4, 5, 6]])\n",
        "arr2 = np.array([[7, 8],\n",
        "                  [9, 10]])\n",
        "\n",
        "# Reshape arr2 to match the shape of arr1\n",
        "reshaped_arr2 = arr2.reshape(2, 1, 2)\n",
        "\n",
        "# Perform broadcasting and multiplication\n",
        "result = arr1 * reshaped_arr2\n",
        "\n",
        "print(\"Resulting array:\")\n",
        "print(result)\n"
      ],
      "metadata": {
        "id": "ojHH8T50GKgV"
      },
      "execution_count": null,
      "outputs": []
    },
    {
      "cell_type": "code",
      "source": [
        "#41.calculate column-wise mean for the given array\n",
        " #arr = np.array([[1,2,3],[4,5,6]])\n",
        "\n",
        " import numpy as np\n",
        "\n",
        "# Given array\n",
        "arr = np.array([[1, 2, 3],\n",
        "                [4, 5, 6]])\n",
        "\n",
        "# Calculate column-wise mean\n",
        "column_mean = np.mean(arr, axis=0)\n",
        "\n",
        "print(\"Column-wise mean:\", column_mean)\n"
      ],
      "metadata": {
        "id": "oB1c5Co-Gsz8"
      },
      "execution_count": null,
      "outputs": []
    },
    {
      "cell_type": "code",
      "source": [
        "#42.find the maximu value i each row of the given array\n",
        " #arr = np.array([[1,2,3],[4,5,6]])\n",
        "\n",
        " import numpy as np\n",
        "\n",
        "# Given array\n",
        "arr = np.array([[1, 2, 3],\n",
        "                [4, 5, 6]])\n",
        "\n",
        "# Find maximum value in each row\n",
        "max_in_each_row = np.amax(arr, axis=1)\n",
        "\n",
        "print(\"Maximum value in each row:\", max_in_each_row)\n"
      ],
      "metadata": {
        "id": "j_Mg11fzHDy_"
      },
      "execution_count": null,
      "outputs": []
    },
    {
      "cell_type": "code",
      "source": [
        "#43.for the given array find indices of maximum value in each column\n",
        "  #arr = np.array([[1,2,3],[4,5,6]])\n",
        "\n",
        "  import numpy as np\n",
        "\n",
        "# Given array\n",
        "arr = np.array([[1, 2, 3],\n",
        "                [4, 5, 6]])\n",
        "\n",
        "# Find indices of maximum value in each column\n",
        "indices_max_in_each_column = np.argmax(arr, axis=0)\n",
        "\n",
        "print(\"Indices of maximum value in each column:\", indices_max_in_each_column)\n"
      ],
      "metadata": {
        "id": "MNjnhGR6HhUR"
      },
      "execution_count": null,
      "outputs": []
    },
    {
      "cell_type": "code",
      "source": [
        "#44.for the given array,apply custom function to calculate moving sum along rows\n",
        "  #arr = np.array([[1,2,3],[4,5,6]])\n",
        "\n",
        "  import numpy as np\n",
        "\n",
        "# Given array\n",
        "arr = np.array([[1, 2, 3],\n",
        "                [4, 5, 6]])\n",
        "\n",
        "# Define custom kernel for moving sum\n",
        "kernel = np.array([1, 1])\n",
        "\n",
        "# Apply convolution along rows to calculate moving sum\n",
        "moving_sum = np.apply_along_axis(lambda row: np.convolve(row, kernel, mode='valid'), axis=1, arr=arr)\n",
        "\n",
        "print(\"Moving sum along rows:\")\n",
        "print(moving_sum)\n"
      ],
      "metadata": {
        "id": "mcm12B2uH7v1"
      },
      "execution_count": null,
      "outputs": []
    },
    {
      "cell_type": "code",
      "source": [
        "#45.in the given array check if all elements in each column are even\n",
        " # arr = np.array([[2,4,6],[3,5,7]])\n",
        "\n",
        "  import numpy as np\n",
        "\n",
        "# Given array\n",
        "arr = np.array([[2, 4, 6],\n",
        "                [3, 5, 7]])\n",
        "\n",
        "# Check if all elements in each column are even\n",
        "are_even = np.all(arr % 2 == 0, axis=0)\n",
        "\n",
        "print(\"Are all elements in each column even?\", are_even)\n"
      ],
      "metadata": {
        "id": "6qQ54rROISup"
      },
      "execution_count": null,
      "outputs": []
    },
    {
      "cell_type": "code",
      "source": [
        "#46.given a numpy array arr reshape it into a mateix of dimension m rows and n column return the reshaped matrix\n",
        "  original_array = np.array([1,2,3,4,5,6])\n",
        "\n",
        "\n",
        "import numpy as np\n",
        "\n",
        "# Given array\n",
        "original_array = np.array([1, 2, 3, 4, 5, 6])\n",
        "\n",
        "# Define the desired dimensions\n",
        "m = 2  # Number of rows\n",
        "n = 3  # Number of columns\n",
        "\n",
        "# Reshape the array into a matrix\n",
        "reshaped_matrix = original_array.reshape((m, n))\n",
        "\n",
        "print(\"Reshaped matrix:\")\n",
        "print(reshaped_matrix)\n"
      ],
      "metadata": {
        "id": "vFAebJCwIt1g"
      },
      "execution_count": null,
      "outputs": []
    },
    {
      "cell_type": "code",
      "source": [
        "#47.craete a function that takes a matrix as input and return the flattened array\n",
        " # input_matrix = np.array([[1,2,3],[4,5,6]])\n",
        "\n",
        "  import numpy as np\n",
        "\n",
        "def flatten_matrix(matrix):\n",
        "    return matrix.flatten()\n",
        "\n",
        "# Given matrix\n",
        "input_matrix = np.array([[1, 2, 3],\n",
        "                         [4, 5, 6]])\n",
        "\n",
        "# Flatten the matrix\n",
        "flattened_array = flatten_matrix(input_matrix)\n",
        "\n",
        "print(\"Flattened array:\")\n",
        "print(flattened_array)\n"
      ],
      "metadata": {
        "id": "yeKnXw8iJYr0"
      },
      "execution_count": null,
      "outputs": []
    },
    {
      "cell_type": "code",
      "source": [
        "#48.write a function that concatenates two given arraya along a specified axis\n",
        "#  array1 = np.array([[1,2],[3,4]])\n",
        " # array =np.array([[5,6],[7,8]])\n",
        "\n",
        "  import numpy as np\n",
        "\n",
        "def concatenate_arrays(array1, array2, axis):\n",
        "    return np.concatenate((array1, array2), axis=axis)\n",
        "\n",
        "# Given arrays\n",
        "array1 = np.array([[1, 2],\n",
        "                   [3, 4]])\n",
        "array2 = np.array([[5, 6],\n",
        "                   [7, 8]])\n",
        "\n",
        "# Concatenate along axis 0 (rows)\n",
        "result_axis0 = concatenate_arrays(array1, array2, axis=0)\n",
        "\n",
        "print(\"Concatenated along axis 0:\")\n",
        "print(result_axis0)\n",
        "\n",
        "# Concatenate along axis 1 (columns)\n",
        "result_axis1 = concatenate_arrays(array1, array2, axis=1)\n",
        "\n",
        "print(\"\\nConcatenated along axis 1:\")\n",
        "print(result_axis1)\n"
      ],
      "metadata": {
        "id": "ru0SoPNwJ6yw"
      },
      "execution_count": null,
      "outputs": []
    },
    {
      "cell_type": "code",
      "source": [
        "#49.craete a function that spilt an array into multiple sub-arrays along a specified axis\n",
        " # original_array = np.array([[1,2,3],[4,5,6],[7,8,9]])\n",
        "\n",
        "  import numpy as np\n",
        "\n",
        "def split_array(original_array, axis, num_splits):\n",
        "    return np.split(original_array, num_splits, axis=axis)\n",
        "\n",
        "# Given array\n",
        "original_array = np.array([[1, 2, 3],\n",
        "                            [4, 5, 6],\n",
        "                            [7, 8, 9]])\n",
        "\n",
        "# Split along axis 0 (rows) into 3 sub-arrays\n",
        "result_axis0 = split_array(original_array, axis=0, num_splits=3)\n",
        "\n",
        "print(\"Split along axis 0:\")\n",
        "for sub_array in result_axis0:\n",
        "    print(sub_array)\n",
        "\n",
        "# Split along axis 1 (columns) into 3 sub-arrays\n",
        "result_axis1 = split_array(original_array, axis=1, num_splits=3)\n",
        "\n",
        "print(\"\\nSplit along axis 1:\")\n",
        "for sub_array in result_axis1:\n",
        "    print(sub_array)\n",
        "\n"
      ],
      "metadata": {
        "id": "zD3iLBinKymg"
      },
      "execution_count": null,
      "outputs": []
    },
    {
      "cell_type": "code",
      "source": [
        "#50.write a function that inserts and then delete elements from a given array at specified indices\n",
        "\"\"\"\n",
        "original_array = np.array([1,2,3,4,5])\n",
        "indices_to_insert =[2,4]\n",
        "values_to_insert = [10,11]\n",
        "indices_to_delete =[1,3]\n",
        "\"\"\"\n",
        "\n",
        "import numpy as np\n",
        "\n",
        "def insert_and_delete_elements(original_array, indices_to_insert, values_to_insert, indices_to_delete):\n",
        "    # Insert elements\n",
        "    original_array = np.insert(original_array, indices_to_insert, values_to_insert)\n",
        "\n",
        "    # Delete elements\n",
        "    original_array = np.delete(original_array, indices_to_delete)\n",
        "\n",
        "    return original_array\n",
        "\n",
        "# Given array and indices\n",
        "original_array = np.array([1, 2, 3, 4, 5])\n",
        "indices_to_insert = [2, 4]\n",
        "values_to_insert = [10, 11]\n",
        "indices_to_delete = [1, 3]\n",
        "\n",
        "# Insert and delete elements\n",
        "result_array = insert_and_delete_elements(original_array, indices_to_insert, values_to_insert, indices_to_delete)\n",
        "\n",
        "print(\"Resulting array:\")\n",
        "print(result_array)\n"
      ],
      "metadata": {
        "id": "_YDfjdtWLzQB"
      },
      "execution_count": null,
      "outputs": []
    },
    {
      "cell_type": "code",
      "source": [
        "#51.craete a numpy array arr1 with random integers and another array arr2 with integers from 1 to 10 perform elements-wise adition between arr1 and arr2\n",
        "import numpy as np\n",
        "\n",
        "# Create arr1 with random integers\n",
        "arr1 = np.random.randint(1, 100, size=(3, 3))\n",
        "\n",
        "# Create arr2 with integers from 1 to 10\n",
        "arr2 = np.arange(1, 11).reshape(1, -1)\n",
        "\n",
        "# Perform element-wise addition between arr1 and arr2\n",
        "result = arr1 + arr2\n",
        "\n",
        "print(\"arr1:\")\n",
        "print(arr1)\n",
        "print(\"\\narr2:\")\n",
        "print(arr2)\n",
        "print(\"\\nResult of element-wise addition:\")\n",
        "print(result)\n"
      ],
      "metadata": {
        "id": "b_OaCsTYMq6H"
      },
      "execution_count": null,
      "outputs": []
    },
    {
      "cell_type": "code",
      "source": [
        "#52.generate a numpy array arr1 with sequencial integers from 10 to 1 and another array arr2 with integers from 1 to 10 substract arr2 from arr1 elements-wise\n",
        "import numpy as np\n",
        "\n",
        "# Generate arr1 with sequential integers from 10 to 1\n",
        "arr1 = np.arange(10, 0, -1)\n",
        "\n",
        "# Generate arr2 with integers from 1 to 10\n",
        "arr2 = np.arange(1, 11)\n",
        "\n",
        "# Perform element-wise subtraction between arr1 and arr2\n",
        "result = arr1 - arr2\n",
        "\n",
        "print(\"arr1:\", arr1)\n",
        "print(\"arr2:\", arr2)\n",
        "print(\"Result of element-wise subtraction:\", result)\n"
      ],
      "metadata": {
        "id": "3FJvGDbgNKi7"
      },
      "execution_count": null,
      "outputs": []
    },
    {
      "cell_type": "code",
      "source": [
        "#53.create a numpy array arr1 with random integers and another array arr2 with integers from 1 to 5.perform elements-wise multiplication between arr1 and arr2\n",
        "import numpy as np\n",
        "\n",
        "# Create arr1 with random integers\n",
        "arr1 = np.random.randint(1, 100, size=(3, 3))\n",
        "\n",
        "# Create arr2 with integers from 1 to 5\n",
        "arr2 = np.arange(1, 6)\n",
        "\n",
        "# Perform element-wise multiplication between arr1 and arr2\n",
        "result = arr1 * arr2[:, np.newaxis]\n",
        "\n",
        "print(\"arr1:\")\n",
        "print(arr1)\n",
        "print(\"\\narr2:\")\n",
        "print(arr2)\n",
        "print(\"\\nResult of element-wise multiplication:\")\n",
        "print(result)\n"
      ],
      "metadata": {
        "id": "0qRQvLLHNotC"
      },
      "execution_count": null,
      "outputs": []
    },
    {
      "cell_type": "code",
      "source": [
        "#54.genertae a numpy array arr1 with even integers from 2 to 10 and another array arr2 with integers from 1 to 5 perform elements-wie division of arr1 by arr2\n",
        "import numpy as np\n",
        "\n",
        "# Create arr1 with even integers from 2 to 10\n",
        "arr1 = np.arange(2, 11, 2)\n",
        "\n",
        "# Create arr2 with integers from 1 to 5\n",
        "arr2 = np.arange(1, 6)\n",
        "\n",
        "# Perform element-wise division between arr1 and arr2\n",
        "result = arr1 / arr2\n",
        "\n",
        "print(\"arr1:\", arr1)\n",
        "print(\"arr2:\", arr2)\n",
        "print(\"Result of element-wise division:\", result)\n"
      ],
      "metadata": {
        "id": "o0GhEK3yOdwc"
      },
      "execution_count": null,
      "outputs": []
    },
    {
      "cell_type": "code",
      "source": [
        "#55.create a numpy array arr1 with integers from 1 to 5 and another array arr2 with the same numbers  reversed calculate the exponeetiation of arr1 raised to the power of arr2 element-wise\n",
        "import numpy as np\n",
        "\n",
        "# Create arr1 with integers from 1 to 5\n",
        "arr1 = np.arange(1, 6)\n",
        "\n",
        "# Create arr2 with the same numbers reversed\n",
        "arr2 = np.flip(arr1)\n",
        "\n",
        "# Calculate the exponentiation of arr1 raised to the power of arr2 element-wise\n",
        "result = np.power(arr1, arr2)\n",
        "\n",
        "print(\"arr1:\", arr1)\n",
        "print(\"arr2:\", arr2)\n",
        "print(\"Result of exponentiation:\", result)\n"
      ],
      "metadata": {
        "id": "yoSZu31YPBmV"
      },
      "execution_count": null,
      "outputs": []
    }
  ]
}